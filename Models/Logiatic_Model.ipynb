{
 "cells": [
  {
   "cell_type": "code",
   "execution_count": 1,
   "metadata": {},
   "outputs": [],
   "source": [
    "import pandas as pd\n",
    "import numpy as np\n",
    "# Load the uploaded cleaned dataset\n",
    "file_path = \"C:/Users/kamali patel/Documents/cleaned_standardized_heart_data.csv\"\n",
    "heart_data = pd.read_csv(file_path)"
   ]
  },
  {
   "cell_type": "code",
   "execution_count": null,
   "metadata": {},
   "outputs": [
    {
     "data": {
      "text/plain": [
       "(0.942343334044728,\n",
       " '              precision    recall  f1-score   support\\n\\n           0       0.95      0.99      0.97     83889\\n           1       0.50      0.19      0.27      5138\\n\\n    accuracy                           0.94     89027\\n   macro avg       0.73      0.59      0.62     89027\\nweighted avg       0.93      0.94      0.93     89027\\n')"
      ]
     },
     "execution_count": 2,
     "metadata": {},
     "output_type": "execute_result"
    }
   ],
   "source": [
    "from sklearn.linear_model import LogisticRegression\n",
    "from sklearn.metrics import classification_report, accuracy_score\n",
    "from sklearn.model_selection import train_test_split\n",
    "\n",
    "# Select features for the model\n",
    "selected_features = ['physicalhealthdays', 'weightinkilograms', 'bmi',\n",
    "                     'heightinmeters', 'sleephours', 'generalhealth',\n",
    "                     'hadangina', 'agecategory']\n",
    "\n",
    "# Use selected features and target variable\n",
    "X = heart_data[selected_features].copy()\n",
    "y = heart_data['hadheartattack']\n",
    "\n",
    "# Handle missing values (imputation)\n",
    "X = X.fillna(X.median(numeric_only=True))\n",
    "\n",
    "# Convert categorical features to minimal encodings (if necessary)\n",
    "X = pd.get_dummies(X, drop_first=True)\n",
    "\n",
    "# Split the dataset into training and testing sets\n",
    "X_train, X_test, y_train, y_test = train_test_split(X, y, test_size=0.2, random_state=42)\n",
    "\n",
    "# Train the logistic regression model\n",
    "logistic_model = LogisticRegression(random_state=42, max_iter=1000)\n",
    "logistic_model.fit(X_train, y_train)\n",
    "\n",
    "# Make predictions on the test set\n",
    "y_pred = logistic_model.predict(X_test)\n",
    "\n",
    "# Evaluate the model\n",
    "accuracy = accuracy_score(y_test, y_pred)\n",
    "report = classification_report(y_test, y_pred)\n",
    "\n",
    "accuracy, report\n"
   ]
  }
 ],
 "metadata": {
  "kernelspec": {
   "display_name": "Python 3",
   "language": "python",
   "name": "python3"
  },
  "language_info": {
   "codemirror_mode": {
    "name": "ipython",
    "version": 3
   },
   "file_extension": ".py",
   "mimetype": "text/x-python",
   "name": "python",
   "nbconvert_exporter": "python",
   "pygments_lexer": "ipython3",
   "version": "3.12.3"
  }
 },
 "nbformat": 4,
 "nbformat_minor": 2
}
