{
 "cells": [
  {
   "cell_type": "code",
   "execution_count": 7,
   "metadata": {},
   "outputs": [],
   "source": [
    "import pandas as pd\n",
    "\n",
    "# Load the dataset\n",
    "heart_2022 = \"C:/Users/kamali patel/heart_disease_prediction/data_cleaning_and_preprocessing/heart_2022_with_nans.csv\"\n",
    "\n"
   ]
  },
  {
   "cell_type": "code",
   "execution_count": 8,
   "metadata": {},
   "outputs": [
    {
     "name": "stdout",
     "output_type": "stream",
     "text": [
      "<class 'pandas.core.frame.DataFrame'>\n",
      "RangeIndex: 445132 entries, 0 to 445131\n",
      "Data columns (total 40 columns):\n",
      " #   Column                     Non-Null Count   Dtype  \n",
      "---  ------                     --------------   -----  \n",
      " 0   State                      445132 non-null  object \n",
      " 1   Sex                        445132 non-null  object \n",
      " 2   GeneralHealth              443934 non-null  object \n",
      " 3   PhysicalHealthDays         434205 non-null  float64\n",
      " 4   MentalHealthDays           436065 non-null  float64\n",
      " 5   LastCheckupTime            436824 non-null  object \n",
      " 6   PhysicalActivities         444039 non-null  object \n",
      " 7   SleepHours                 439679 non-null  float64\n",
      " 8   RemovedTeeth               433772 non-null  object \n",
      " 9   HadHeartAttack             442067 non-null  object \n",
      " 10  HadAngina                  440727 non-null  object \n",
      " 11  HadStroke                  443575 non-null  object \n",
      " 12  HadAsthma                  443359 non-null  object \n",
      " 13  HadSkinCancer              441989 non-null  object \n",
      " 14  HadCOPD                    442913 non-null  object \n",
      " 15  HadDepressiveDisorder      442320 non-null  object \n",
      " 16  HadKidneyDisease           443206 non-null  object \n",
      " 17  HadArthritis               442499 non-null  object \n",
      " 18  HadDiabetes                444045 non-null  object \n",
      " 19  DeafOrHardOfHearing        424485 non-null  object \n",
      " 20  BlindOrVisionDifficulty    423568 non-null  object \n",
      " 21  DifficultyConcentrating    420892 non-null  object \n",
      " 22  DifficultyWalking          421120 non-null  object \n",
      " 23  DifficultyDressingBathing  421217 non-null  object \n",
      " 24  DifficultyErrands          419476 non-null  object \n",
      " 25  SmokerStatus               409670 non-null  object \n",
      " 26  ECigaretteUsage            409472 non-null  object \n",
      " 27  ChestScan                  389086 non-null  object \n",
      " 28  RaceEthnicityCategory      431075 non-null  object \n",
      " 29  AgeCategory                436053 non-null  object \n",
      " 30  HeightInMeters             416480 non-null  float64\n",
      " 31  WeightInKilograms          403054 non-null  float64\n",
      " 32  BMI                        396326 non-null  float64\n",
      " 33  AlcoholDrinkers            398558 non-null  object \n",
      " 34  HIVTesting                 379005 non-null  object \n",
      " 35  FluVaxLast12               398011 non-null  object \n",
      " 36  PneumoVaxEver              368092 non-null  object \n",
      " 37  TetanusLast10Tdap          362616 non-null  object \n",
      " 38  HighRiskLastYear           394509 non-null  object \n",
      " 39  CovidPos                   394368 non-null  object \n",
      "dtypes: float64(6), object(34)\n",
      "memory usage: 135.8+ MB\n"
     ]
    },
    {
     "data": {
      "text/plain": [
       "(None,\n",
       "      State     Sex GeneralHealth  PhysicalHealthDays  MentalHealthDays  \\\n",
       " 0  Alabama  Female     Very good                 0.0               0.0   \n",
       " 1  Alabama  Female     Excellent                 0.0               0.0   \n",
       " 2  Alabama  Female     Very good                 2.0               3.0   \n",
       " 3  Alabama  Female     Excellent                 0.0               0.0   \n",
       " 4  Alabama  Female          Fair                 2.0               0.0   \n",
       " \n",
       "                                      LastCheckupTime PhysicalActivities  \\\n",
       " 0  Within past year (anytime less than 12 months ...                 No   \n",
       " 1                                                NaN                 No   \n",
       " 2  Within past year (anytime less than 12 months ...                Yes   \n",
       " 3  Within past year (anytime less than 12 months ...                Yes   \n",
       " 4  Within past year (anytime less than 12 months ...                Yes   \n",
       " \n",
       "    SleepHours RemovedTeeth HadHeartAttack  ... HeightInMeters  \\\n",
       " 0         8.0          NaN             No  ...            NaN   \n",
       " 1         6.0          NaN             No  ...           1.60   \n",
       " 2         5.0          NaN             No  ...           1.57   \n",
       " 3         7.0          NaN             No  ...           1.65   \n",
       " 4         9.0          NaN             No  ...           1.57   \n",
       " \n",
       "   WeightInKilograms    BMI AlcoholDrinkers HIVTesting FluVaxLast12  \\\n",
       " 0               NaN    NaN              No         No          Yes   \n",
       " 1             68.04  26.57              No         No           No   \n",
       " 2             63.50  25.61              No         No           No   \n",
       " 3             63.50  23.30              No         No          Yes   \n",
       " 4             53.98  21.77             Yes         No           No   \n",
       " \n",
       "   PneumoVaxEver                                  TetanusLast10Tdap  \\\n",
       " 0            No  Yes, received tetanus shot but not sure what type   \n",
       " 1            No  No, did not receive any tetanus shot in the pa...   \n",
       " 2            No                                                NaN   \n",
       " 3           Yes  No, did not receive any tetanus shot in the pa...   \n",
       " 4           Yes  No, did not receive any tetanus shot in the pa...   \n",
       " \n",
       "   HighRiskLastYear CovidPos  \n",
       " 0               No       No  \n",
       " 1               No       No  \n",
       " 2               No      Yes  \n",
       " 3               No       No  \n",
       " 4               No       No  \n",
       " \n",
       " [5 rows x 40 columns])"
      ]
     },
     "execution_count": 8,
     "metadata": {},
     "output_type": "execute_result"
    }
   ],
   "source": [
    "heart_data = pd.read_csv(heart_2022)\n",
    "\n",
    "# Display basic information about the dataset\n",
    "heart_data.info(), heart_data.head()"
   ]
  },
  {
   "cell_type": "code",
   "execution_count": 9,
   "metadata": {},
   "outputs": [
    {
     "data": {
      "text/plain": [
       "State                            0\n",
       "Sex                              0\n",
       "GeneralHealth                 1198\n",
       "PhysicalHealthDays           10927\n",
       "MentalHealthDays              9067\n",
       "LastCheckupTime               8308\n",
       "PhysicalActivities            1093\n",
       "SleepHours                    5453\n",
       "RemovedTeeth                 11360\n",
       "HadHeartAttack                3065\n",
       "HadAngina                     4405\n",
       "HadStroke                     1557\n",
       "HadAsthma                     1773\n",
       "HadSkinCancer                 3143\n",
       "HadCOPD                       2219\n",
       "HadDepressiveDisorder         2812\n",
       "HadKidneyDisease              1926\n",
       "HadArthritis                  2633\n",
       "HadDiabetes                   1087\n",
       "DeafOrHardOfHearing          20647\n",
       "BlindOrVisionDifficulty      21564\n",
       "DifficultyConcentrating      24240\n",
       "DifficultyWalking            24012\n",
       "DifficultyDressingBathing    23915\n",
       "DifficultyErrands            25656\n",
       "SmokerStatus                 35462\n",
       "ECigaretteUsage              35660\n",
       "ChestScan                    56046\n",
       "RaceEthnicityCategory        14057\n",
       "AgeCategory                   9079\n",
       "HeightInMeters               28652\n",
       "WeightInKilograms            42078\n",
       "BMI                          48806\n",
       "AlcoholDrinkers              46574\n",
       "HIVTesting                   66127\n",
       "FluVaxLast12                 47121\n",
       "PneumoVaxEver                77040\n",
       "TetanusLast10Tdap            82516\n",
       "HighRiskLastYear             50623\n",
       "CovidPos                     50764\n",
       "dtype: int64"
      ]
     },
     "execution_count": 9,
     "metadata": {},
     "output_type": "execute_result"
    }
   ],
   "source": [
    "missing_values = heart_data.isnull().sum()\n",
    "\n",
    "missing_values"
   ]
  },
  {
   "cell_type": "code",
   "execution_count": 10,
   "metadata": {},
   "outputs": [
    {
     "data": {
      "text/plain": [
       "([],\n",
       " State                            0\n",
       " Sex                              0\n",
       " GeneralHealth                 1198\n",
       " PhysicalHealthDays           10927\n",
       " MentalHealthDays              9067\n",
       " LastCheckupTime               8308\n",
       " PhysicalActivities            1093\n",
       " SleepHours                    5453\n",
       " RemovedTeeth                 11360\n",
       " HadHeartAttack                3065\n",
       " HadAngina                     4405\n",
       " HadStroke                     1557\n",
       " HadAsthma                     1773\n",
       " HadSkinCancer                 3143\n",
       " HadCOPD                       2219\n",
       " HadDepressiveDisorder         2812\n",
       " HadKidneyDisease              1926\n",
       " HadArthritis                  2633\n",
       " HadDiabetes                   1087\n",
       " DeafOrHardOfHearing          20647\n",
       " BlindOrVisionDifficulty      21564\n",
       " DifficultyConcentrating      24240\n",
       " DifficultyWalking            24012\n",
       " DifficultyDressingBathing    23915\n",
       " DifficultyErrands            25656\n",
       " SmokerStatus                 35462\n",
       " ECigaretteUsage              35660\n",
       " ChestScan                    56046\n",
       " RaceEthnicityCategory        14057\n",
       " AgeCategory                   9079\n",
       " HeightInMeters               28652\n",
       " WeightInKilograms            42078\n",
       " BMI                          48806\n",
       " AlcoholDrinkers              46574\n",
       " HIVTesting                   66127\n",
       " FluVaxLast12                 47121\n",
       " PneumoVaxEver                77040\n",
       " TetanusLast10Tdap            82516\n",
       " HighRiskLastYear             50623\n",
       " CovidPos                     50764\n",
       " dtype: int64)"
      ]
     },
     "execution_count": 10,
     "metadata": {},
     "output_type": "execute_result"
    }
   ],
   "source": [
    "# Identify columns with more than 50% missing values\n",
    "threshold = 0.5 * len(heart_data)  # 50% of the dataset size\n",
    "columns_to_drop = [col for col in heart_data.columns if heart_data[col].isnull().sum() > threshold]\n",
    "\n",
    "# Drop columns with excessive missing data\n",
    "heart_data_cleaned = heart_data.drop(columns=columns_to_drop)\n",
    "\n",
    "# Check the remaining columns and their missing values\n",
    "remaining_missing_values = heart_data_cleaned.isnull().sum()\n",
    "\n",
    "columns_to_drop, remaining_missing_values\n"
   ]
  },
  {
   "cell_type": "code",
   "execution_count": null,
   "metadata": {},
   "outputs": [
    {
     "data": {
      "text/plain": [
       "0"
      ]
     },
     "execution_count": 11,
     "metadata": {},
     "output_type": "execute_result"
    }
   ],
   "source": [
    "# Separate columns into categorical and numerical\n",
    "categorical_cols = heart_data_cleaned.select_dtypes(include='object').columns\n",
    "numerical_cols = heart_data_cleaned.select_dtypes(include=['float64', 'int64']).columns\n",
    "\n",
    "# Correct imputation without inplace=True\n",
    "for col in categorical_cols:\n",
    "    heart_data_cleaned[col] = heart_data_cleaned[col].fillna(heart_data_cleaned[col].mode()[0])\n",
    "\n",
    "for col in numerical_cols:\n",
    "    heart_data_cleaned[col] = heart_data_cleaned[col].fillna(heart_data_cleaned[col].median())\n",
    "\n",
    "# Verify that there are no missing values left\n",
    "final_missing_values_corrected = heart_data_cleaned.isnull().sum().sum()\n",
    "\n",
    "final_missing_values_corrected\n",
    "\n"
   ]
  },
  {
   "cell_type": "code",
   "execution_count": null,
   "metadata": {},
   "outputs": [],
   "source": []
  }
 ],
 "metadata": {
  "kernelspec": {
   "display_name": "Python 3",
   "language": "python",
   "name": "python3"
  },
  "language_info": {
   "codemirror_mode": {
    "name": "ipython",
    "version": 3
   },
   "file_extension": ".py",
   "mimetype": "text/x-python",
   "name": "python",
   "nbconvert_exporter": "python",
   "pygments_lexer": "ipython3",
   "version": "3.12.3"
  }
 },
 "nbformat": 4,
 "nbformat_minor": 2
}
