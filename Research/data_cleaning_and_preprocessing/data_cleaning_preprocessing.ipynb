{
 "cells": [
  {
   "cell_type": "code",
   "execution_count": 1,
   "metadata": {},
   "outputs": [],
   "source": [
    "import pandas as pd\n",
    "\n",
    "# Load the dataset\n",
    "heart_2022 = \"C:/Users/ashwa/Downloads/heart/2022/heart_2022_with_nans.csv\"\n",
    "\n"
   ]
  },
  {
   "cell_type": "code",
   "execution_count": null,
   "metadata": {},
   "outputs": [],
   "source": [
    "heart_data = pd.read_csv(heart_2022)\n",
    "\n",
    "# Display basic information about the dataset\n",
    "heart_data.info(), heart_data.head()"
   ]
  },
  {
   "cell_type": "code",
   "execution_count": 3,
   "metadata": {},
   "outputs": [
    {
     "data": {
      "text/plain": [
       "State                            0\n",
       "Sex                              0\n",
       "GeneralHealth                 1198\n",
       "PhysicalHealthDays           10927\n",
       "MentalHealthDays              9067\n",
       "LastCheckupTime               8308\n",
       "PhysicalActivities            1093\n",
       "SleepHours                    5453\n",
       "RemovedTeeth                 11360\n",
       "HadHeartAttack                3065\n",
       "HadAngina                     4405\n",
       "HadStroke                     1557\n",
       "HadAsthma                     1773\n",
       "HadSkinCancer                 3143\n",
       "HadCOPD                       2219\n",
       "HadDepressiveDisorder         2812\n",
       "HadKidneyDisease              1926\n",
       "HadArthritis                  2633\n",
       "HadDiabetes                   1087\n",
       "DeafOrHardOfHearing          20647\n",
       "BlindOrVisionDifficulty      21564\n",
       "DifficultyConcentrating      24240\n",
       "DifficultyWalking            24012\n",
       "DifficultyDressingBathing    23915\n",
       "DifficultyErrands            25656\n",
       "SmokerStatus                 35462\n",
       "ECigaretteUsage              35660\n",
       "ChestScan                    56046\n",
       "RaceEthnicityCategory        14057\n",
       "AgeCategory                   9079\n",
       "HeightInMeters               28652\n",
       "WeightInKilograms            42078\n",
       "BMI                          48806\n",
       "AlcoholDrinkers              46574\n",
       "HIVTesting                   66127\n",
       "FluVaxLast12                 47121\n",
       "PneumoVaxEver                77040\n",
       "TetanusLast10Tdap            82516\n",
       "HighRiskLastYear             50623\n",
       "CovidPos                     50764\n",
       "dtype: int64"
      ]
     },
     "execution_count": 3,
     "metadata": {},
     "output_type": "execute_result"
    }
   ],
   "source": [
    "missing_values = heart_data.isnull().sum()\n",
    "\n",
    "missing_values"
   ]
  },
  {
   "cell_type": "code",
   "execution_count": 4,
   "metadata": {},
   "outputs": [
    {
     "data": {
      "text/plain": [
       "([],\n",
       " State                            0\n",
       " Sex                              0\n",
       " GeneralHealth                 1198\n",
       " PhysicalHealthDays           10927\n",
       " MentalHealthDays              9067\n",
       " LastCheckupTime               8308\n",
       " PhysicalActivities            1093\n",
       " SleepHours                    5453\n",
       " RemovedTeeth                 11360\n",
       " HadHeartAttack                3065\n",
       " HadAngina                     4405\n",
       " HadStroke                     1557\n",
       " HadAsthma                     1773\n",
       " HadSkinCancer                 3143\n",
       " HadCOPD                       2219\n",
       " HadDepressiveDisorder         2812\n",
       " HadKidneyDisease              1926\n",
       " HadArthritis                  2633\n",
       " HadDiabetes                   1087\n",
       " DeafOrHardOfHearing          20647\n",
       " BlindOrVisionDifficulty      21564\n",
       " DifficultyConcentrating      24240\n",
       " DifficultyWalking            24012\n",
       " DifficultyDressingBathing    23915\n",
       " DifficultyErrands            25656\n",
       " SmokerStatus                 35462\n",
       " ECigaretteUsage              35660\n",
       " ChestScan                    56046\n",
       " RaceEthnicityCategory        14057\n",
       " AgeCategory                   9079\n",
       " HeightInMeters               28652\n",
       " WeightInKilograms            42078\n",
       " BMI                          48806\n",
       " AlcoholDrinkers              46574\n",
       " HIVTesting                   66127\n",
       " FluVaxLast12                 47121\n",
       " PneumoVaxEver                77040\n",
       " TetanusLast10Tdap            82516\n",
       " HighRiskLastYear             50623\n",
       " CovidPos                     50764\n",
       " dtype: int64)"
      ]
     },
     "execution_count": 4,
     "metadata": {},
     "output_type": "execute_result"
    }
   ],
   "source": [
    "# Identify columns with more than 50% missing values\n",
    "threshold = 0.5 * len(heart_data)  # 50% of the dataset size\n",
    "columns_to_drop = [col for col in heart_data.columns if heart_data[col].isnull().sum() > threshold]\n",
    "\n",
    "# Drop columns with excessive missing data\n",
    "heart_data_cleaned = heart_data.drop(columns=columns_to_drop)\n",
    "\n",
    "# Check the remaining columns and their missing values\n",
    "remaining_missing_values = heart_data_cleaned.isnull().sum()\n",
    "\n",
    "columns_to_drop, remaining_missing_values\n"
   ]
  },
  {
   "cell_type": "code",
   "execution_count": 5,
   "metadata": {},
   "outputs": [
    {
     "data": {
      "text/plain": [
       "0"
      ]
     },
     "execution_count": 5,
     "metadata": {},
     "output_type": "execute_result"
    }
   ],
   "source": [
    "# Separate columns into categorical and numerical\n",
    "categorical_cols = heart_data_cleaned.select_dtypes(include='object').columns\n",
    "numerical_cols = heart_data_cleaned.select_dtypes(include=['float64', 'int64']).columns\n",
    "\n",
    "# Correct imputation without inplace=True\n",
    "for col in categorical_cols:\n",
    "    heart_data_cleaned[col] = heart_data_cleaned[col].fillna(heart_data_cleaned[col].mode()[0])\n",
    "\n",
    "for col in numerical_cols:\n",
    "    heart_data_cleaned[col] = heart_data_cleaned[col].fillna(heart_data_cleaned[col].median())\n",
    "\n",
    "# Verify that there are no missing values left\n",
    "final_missing_values_corrected = heart_data_cleaned.isnull().sum().sum()\n",
    "\n",
    "final_missing_values_corrected\n",
    "\n"
   ]
  },
  {
   "cell_type": "code",
   "execution_count": 6,
   "metadata": {},
   "outputs": [
    {
     "name": "stdout",
     "output_type": "stream",
     "text": [
      "<class 'pandas.core.frame.DataFrame'>\n",
      "RangeIndex: 445132 entries, 0 to 445131\n",
      "Data columns (total 41 columns):\n",
      " #   Column                     Non-Null Count   Dtype   \n",
      "---  ------                     --------------   -----   \n",
      " 0   State                      445132 non-null  object  \n",
      " 1   GeneralHealth              445132 non-null  int8    \n",
      " 2   PhysicalHealthDays         434205 non-null  float64 \n",
      " 3   MentalHealthDays           436065 non-null  float64 \n",
      " 4   LastCheckupTime            445132 non-null  object  \n",
      " 5   PhysicalActivities         445132 non-null  object  \n",
      " 6   SleepHours                 439679 non-null  float64 \n",
      " 7   RemovedTeeth               445132 non-null  object  \n",
      " 8   HadHeartAttack             445132 non-null  int32   \n",
      " 9   HadAngina                  445132 non-null  object  \n",
      " 10  HadStroke                  445132 non-null  object  \n",
      " 11  HadAsthma                  445132 non-null  object  \n",
      " 12  HadSkinCancer              445132 non-null  object  \n",
      " 13  HadCOPD                    445132 non-null  object  \n",
      " 14  HadDepressiveDisorder      445132 non-null  object  \n",
      " 15  HadKidneyDisease           445132 non-null  object  \n",
      " 16  HadArthritis               445132 non-null  object  \n",
      " 17  HadDiabetes                445132 non-null  object  \n",
      " 18  DeafOrHardOfHearing        445132 non-null  object  \n",
      " 19  BlindOrVisionDifficulty    445132 non-null  object  \n",
      " 20  DifficultyConcentrating    445132 non-null  object  \n",
      " 21  DifficultyWalking          445132 non-null  object  \n",
      " 22  DifficultyDressingBathing  445132 non-null  object  \n",
      " 23  DifficultyErrands          445132 non-null  object  \n",
      " 24  SmokerStatus               445132 non-null  object  \n",
      " 25  ECigaretteUsage            445132 non-null  object  \n",
      " 26  ChestScan                  445132 non-null  object  \n",
      " 27  RaceEthnicityCategory      445132 non-null  object  \n",
      " 28  AgeCategory                445132 non-null  object  \n",
      " 29  HeightInMeters             416480 non-null  float64 \n",
      " 30  WeightInKilograms          403054 non-null  float64 \n",
      " 31  BMI                        396326 non-null  float64 \n",
      " 32  AlcoholDrinkers            445132 non-null  object  \n",
      " 33  HIVTesting                 445132 non-null  object  \n",
      " 34  FluVaxLast12               445132 non-null  object  \n",
      " 35  PneumoVaxEver              445132 non-null  object  \n",
      " 36  TetanusLast10Tdap          445132 non-null  object  \n",
      " 37  HighRiskLastYear           445132 non-null  object  \n",
      " 38  CovidPos                   445132 non-null  object  \n",
      " 39  Sex_Male                   445132 non-null  bool    \n",
      " 40  BMICategory                195232 non-null  category\n",
      "dtypes: bool(1), category(1), float64(6), int32(1), int8(1), object(31)\n",
      "memory usage: 128.6+ MB\n"
     ]
    },
    {
     "data": {
      "text/plain": [
       "(None,\n",
       " HadHeartAttack\n",
       " 0    420024\n",
       " 1     25108\n",
       " Name: count, dtype: int64)"
      ]
     },
     "execution_count": 6,
     "metadata": {},
     "output_type": "execute_result"
    }
   ],
   "source": [
    "import numpy as np\n",
    "from sklearn.preprocessing import RobustScaler\n",
    "# Step 2: Apply Transformations to Handle Outliers (Log Transform for Skewness)\n",
    "skewed_cols = ['PhysicalHealthDays', 'MentalHealthDays', 'SleepHours', 'BMI']\n",
    "for col in skewed_cols:\n",
    "    heart_data[col] = heart_data[col].apply(lambda x: np.log1p(x) if x > 0 else x)\n",
    "\n",
    "# Step 3: Scale Numerical Features Using RobustScaler\n",
    "scaler = RobustScaler()\n",
    "heart_data[numerical_cols] = scaler.fit_transform(heart_data[numerical_cols])\n",
    "# Step 4: Validate and Standardize Data Types\n",
    "# Ensure numerical columns are numeric and categorical columns are strings\n",
    "for col in categorical_cols:\n",
    "    heart_data[col] = heart_data[col].astype(str)\n",
    "\n",
    "# Step 5: Encode Categorical Variables\n",
    "# One-hot encode 'Sex' and label encode 'GeneralHealth'\n",
    "heart_data = pd.get_dummies(heart_data, columns=['Sex'], drop_first=True)  # One-hot encoding for 'Sex'\n",
    "heart_data['GeneralHealth'] = heart_data['GeneralHealth'].astype('category').cat.codes  # Label encoding\n",
    "\n",
    "# Step 6: Feature Engineering - Create BMI Categories\n",
    "heart_data['BMICategory'] = pd.cut(\n",
    "    heart_data['BMI'],\n",
    "    bins=[0, 18.5, 25, 30, np.inf],\n",
    "    labels=['Underweight', 'Normal', 'Overweight', 'Obese']\n",
    ")\n",
    "\n",
    "# Step 7: Prepare Target Variable\n",
    "# Convert 'HadHeartAttack' to binary (0/1)\n",
    "heart_data['HadHeartAttack'] = heart_data['HadHeartAttack'].map({'No': 0, 'Yes': 1}).fillna(0).astype(int)\n",
    "\n",
    "# Verify the preprocessed dataset\n",
    "heart_data.info(), heart_data['HadHeartAttack'].value_counts()"
   ]
  },
  {
   "cell_type": "code",
   "execution_count": 7,
   "metadata": {},
   "outputs": [],
   "source": [
    "# Step 8: Standardize Column Names\n",
    "heart_data.columns = (\n",
    "    heart_data.columns\n",
    "    .str.strip()  # Remove leading/trailing whitespaces\n",
    "    .str.lower()  # Convert to lowercase\n",
    "    .str.replace(' ', '_')  # Replace spaces with underscores\n",
    "    .str.replace('[^a-zA-Z0-9_]', '')  # Remove special characters\n",
    ")\n",
    "\n",
    "# Step 9: Save the preprocessed dataset as a CSV file\n",
    "output_file_path = 'C:/Users/ashwa/OneDrive/Desktop/cleaned_standardized_heart_data.csv'\n",
    "heart_data.to_csv(output_file_path, index=False)"
   ]
  }
 ],
 "metadata": {
  "kernelspec": {
   "display_name": "base",
   "language": "python",
   "name": "python3"
  },
  "language_info": {
   "codemirror_mode": {
    "name": "ipython",
    "version": 3
   },
   "file_extension": ".py",
   "mimetype": "text/x-python",
   "name": "python",
   "nbconvert_exporter": "python",
   "pygments_lexer": "ipython3",
   "version": "3.11.7"
  }
 },
 "nbformat": 4,
 "nbformat_minor": 2
}
