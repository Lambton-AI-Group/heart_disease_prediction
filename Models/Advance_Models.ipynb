{
 "cells": [
  {
   "cell_type": "code",
   "execution_count": 2,
   "metadata": {},
   "outputs": [
    {
     "name": "stdout",
     "output_type": "stream",
     "text": [
      "=== Random Forest Results ===\n",
      "Accuracy: 94.79%\n",
      "\n",
      "Classification Report:\n",
      "               precision    recall  f1-score   support\n",
      "\n",
      "           0       0.95      0.95      0.95     84126\n",
      "           1       0.95      0.95      0.95     83884\n",
      "\n",
      "    accuracy                           0.95    168010\n",
      "   macro avg       0.95      0.95      0.95    168010\n",
      "weighted avg       0.95      0.95      0.95    168010\n",
      "\n"
     ]
    }
   ],
   "source": [
    "# Import necessary libraries\n",
    "import pandas as pd\n",
    "from sklearn.model_selection import train_test_split\n",
    "from sklearn.ensemble import RandomForestClassifier, GradientBoostingClassifier\n",
    "from sklearn.metrics import classification_report, accuracy_score\n",
    "from imblearn.over_sampling import SMOTE\n",
    "\n",
    "# Load the dataset\n",
    "file_path = 'C:/Users/ashwa/OneDrive/Desktop/cleaned_standardized_heart_data.csv'  # Adjust the path as needed\n",
    "heart_data = pd.read_csv(file_path)\n",
    "\n",
    "# Select features for the model\n",
    "selected_features = ['physicalhealthdays', 'weightinkilograms', 'bmi',\n",
    "                     'heightinmeters', 'sleephours', 'generalhealth',\n",
    "                     'hadangina', 'agecategory']\n",
    "X = heart_data[selected_features].copy()\n",
    "y = heart_data['hadheartattack']\n",
    "\n",
    "# Handle missing values (imputation)\n",
    "X = X.fillna(X.median(numeric_only=True))\n",
    "\n",
    "# Convert categorical features to minimal encodings (if necessary)\n",
    "X = pd.get_dummies(X, drop_first=True)\n",
    "\n",
    "# Address class imbalance using SMOTE\n",
    "smote = SMOTE(random_state=42)\n",
    "X_resampled, y_resampled = smote.fit_resample(X, y)\n",
    "\n",
    "# Split the resampled dataset into training and testing sets\n",
    "X_train_smote, X_test_smote, y_train_smote, y_test_smote = train_test_split(\n",
    "    X_resampled, y_resampled, test_size=0.2, random_state=42\n",
    ")\n",
    "\n",
    "# Train a Random Forest model\n",
    "rf_model = RandomForestClassifier(n_estimators=100, random_state=42)\n",
    "rf_model.fit(X_train_smote, y_train_smote)\n",
    "y_pred_rf = rf_model.predict(X_test_smote)\n",
    "\n",
    "# Evaluate the Random Forest model\n",
    "accuracy_rf = accuracy_score(y_test_smote, y_pred_rf)\n",
    "report_rf = classification_report(y_test_smote, y_pred_rf)\n",
    "\n",
    "print(\"=== Random Forest Results ===\")\n",
    "print(f\"Accuracy: {accuracy_rf * 100:.2f}%\")\n",
    "print(\"\\nClassification Report:\\n\", report_rf)"
   ]
  },
  {
   "cell_type": "code",
   "execution_count": null,
   "metadata": {},
   "outputs": [
    {
     "name": "stdout",
     "output_type": "stream",
     "text": [
      "=== Gradient Boosting Results ===\n",
      "Accuracy: 88.37%\n",
      "\n",
      "Classification Report:\n",
      "               precision    recall  f1-score   support\n",
      "\n",
      "           0       0.85      0.93      0.89     84126\n",
      "           1       0.92      0.83      0.88     83884\n",
      "\n",
      "    accuracy                           0.88    168010\n",
      "   macro avg       0.89      0.88      0.88    168010\n",
      "weighted avg       0.89      0.88      0.88    168010\n",
      "\n"
     ]
    }
   ],
   "source": [
    "# Train a Gradient Boosting model\n",
    "gb_model = GradientBoostingClassifier(n_estimators=100, random_state=42)\n",
    "gb_model.fit(X_train_smote, y_train_smote)\n",
    "y_pred_gb = gb_model.predict(X_test_smote)\n",
    "\n",
    "# Evaluate the Gradient Boosting model\n",
    "accuracy_gb = accuracy_score(y_test_smote, y_pred_gb)\n",
    "report_gb = classification_report(y_test_smote, y_pred_gb)\n",
    "\n",
    "print(\"=== Gradient Boosting Results ===\")\n",
    "print(f\"Accuracy: {accuracy_gb * 100:.2f}%\")\n",
    "print(\"\\nClassification Report:\\n\", report_gb)"
   ]
  }
 ],
 "metadata": {
  "kernelspec": {
   "display_name": "PySpark",
   "language": "python",
   "name": "pyspark"
  },
  "language_info": {
   "codemirror_mode": {
    "name": "ipython",
    "version": 3
   },
   "file_extension": ".py",
   "mimetype": "text/x-python",
   "name": "python",
   "nbconvert_exporter": "python",
   "pygments_lexer": "ipython3",
   "version": "3.12.3"
  }
 },
 "nbformat": 4,
 "nbformat_minor": 2
}
